{
 "cells": [
  {
   "cell_type": "code",
   "execution_count": 1,
   "metadata": {},
   "outputs": [
    {
     "name": "stdout",
     "output_type": "stream",
     "text": [
      "0:00:05.00 5.0\n"
     ]
    }
   ],
   "source": [
    "from datetime import datetime, timedelta\n",
    "import pandas as pd\n",
    "import time\n",
    "\n",
    "# Get today's date\n",
    "begin = datetime.now()\n",
    "time.sleep(5)\n",
    "end = datetime.now()\n",
    "\n",
    "total = end - begin\n",
    "total = str(total)[:-4]\n",
    "\n",
    "seconds = float(total.split(\":\")[2])\n",
    "minutes = float(total.split(\":\")[1])\n",
    "hours = float(total.split(\":\")[0])\n",
    "\n",
    "print(total, seconds)"
   ]
  },
  {
   "cell_type": "code",
   "execution_count": 10,
   "metadata": {},
   "outputs": [
    {
     "name": "stdout",
     "output_type": "stream",
     "text": [
      "Directory created at /Users/jakeziegler/Desktop/weave/images/subject.ico\n"
     ]
    }
   ],
   "source": [
    "import os\n",
    "\n",
    "# Get the current working directory\n",
    "current_directory = os.getcwd()\n",
    "\n",
    "# Create a path for the new directory (e.g., 'weave/data')\n",
    "new_directory = os.path.join(current_directory, 'images', 'subject.ico')\n",
    "\n",
    "\n",
    "print(f\"Directory created at {new_directory}\")\n"
   ]
  },
  {
   "cell_type": "code",
   "execution_count": 3,
   "metadata": {},
   "outputs": [
    {
     "name": "stdout",
     "output_type": "stream",
     "text": [
      "--add-data= \"/Users/jakeziegler/Desktop/apps/weave/images/brainBlack.png\"\n",
      "--add-data= \"/Users/jakeziegler/Desktop/apps/weave/images/gearWhite.png\"\n",
      "--add-data= \"/Users/jakeziegler/Desktop/apps/weave/images/.DS_Store\"\n",
      "--add-data= \"/Users/jakeziegler/Desktop/apps/weave/images/journalWhite.png\"\n",
      "--add-data= \"/Users/jakeziegler/Desktop/apps/weave/images/barWhite.png\"\n",
      "--add-data= \"/Users/jakeziegler/Desktop/apps/weave/images/homeBlack.png\"\n",
      "--add-data= \"/Users/jakeziegler/Desktop/apps/weave/images/rightBlack.png\"\n",
      "--add-data= \"/Users/jakeziegler/Desktop/apps/weave/images/meditateWhite.png\"\n",
      "--add-data= \"/Users/jakeziegler/Desktop/apps/weave/images/subject.ico\"\n",
      "--add-data= \"/Users/jakeziegler/Desktop/apps/weave/images/leftBlack.png\"\n",
      "--add-data= \"/Users/jakeziegler/Desktop/apps/weave/images/brainWhite.png\"\n",
      "--add-data= \"/Users/jakeziegler/Desktop/apps/weave/images/gearBlack.png\"\n",
      "--add-data= \"/Users/jakeziegler/Desktop/apps/weave/images/journalBlack.png\"\n",
      "--add-data= \"/Users/jakeziegler/Desktop/apps/weave/images/barBlack.png\"\n",
      "--add-data= \"/Users/jakeziegler/Desktop/apps/weave/images/homeWhite.png\"\n",
      "--add-data= \"/Users/jakeziegler/Desktop/apps/weave/images/meditateBlack.png\"\n",
      "--add-data= \"/Users/jakeziegler/Desktop/apps/weave/images/rightWhite.png\"\n",
      "--add-data= \"/Users/jakeziegler/Desktop/apps/weave/images/subject.png\"\n",
      "--add-data= \"/Users/jakeziegler/Desktop/apps/weave/images/leftWhite.png\"\n"
     ]
    }
   ],
   "source": [
    "import os\n",
    "\n",
    "def get_file_paths(directory):\n",
    "    file_paths = []  # List to store file paths\n",
    "    for root, directories, files in os.walk(directory):\n",
    "        for filename in files:\n",
    "            # Join the two strings to form the full filepath.\n",
    "            filepath = os.path.join(root, filename)\n",
    "            file_paths.append( \"--add-data= \\\"\"+ filepath + \"\\\"\")  # Add it to the list.\n",
    "\n",
    "    return file_paths\n",
    "\n",
    "# Replace 'your_directory_path' with the path of the directory you want to search.\n",
    "directory_path = '/Users/jakeziegler/Desktop/apps/weave/images'\n",
    "file_paths = get_file_paths(directory_path)\n",
    "\n",
    "# Print the list of file paths\n",
    "for path in file_paths:\n",
    "    print(path)\n"
   ]
  },
  {
   "cell_type": "code",
   "execution_count": null,
   "metadata": {},
   "outputs": [],
   "source": []
  }
 ],
 "metadata": {
  "kernelspec": {
   "display_name": "Python 3",
   "language": "python",
   "name": "python3"
  },
  "language_info": {
   "codemirror_mode": {
    "name": "ipython",
    "version": 3
   },
   "file_extension": ".py",
   "mimetype": "text/x-python",
   "name": "python",
   "nbconvert_exporter": "python",
   "pygments_lexer": "ipython3",
   "version": "3.12.2"
  }
 },
 "nbformat": 4,
 "nbformat_minor": 2
}
