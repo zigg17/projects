{
 "cells": [
  {
   "cell_type": "markdown",
   "metadata": {},
   "source": [
    "# Imports & Miscellaneous Startup:\n",
    "---"
   ]
  },
  {
   "cell_type": "code",
   "execution_count": 1,
   "metadata": {},
   "outputs": [],
   "source": [
    "import pandas as pd \n",
    "import csv\n",
    "import os\n",
    "import shutil"
   ]
  },
  {
   "cell_type": "code",
   "execution_count": 4,
   "metadata": {},
   "outputs": [
    {
     "data": {
      "text/html": [
       "<div>\n",
       "<style scoped>\n",
       "    .dataframe tbody tr th:only-of-type {\n",
       "        vertical-align: middle;\n",
       "    }\n",
       "\n",
       "    .dataframe tbody tr th {\n",
       "        vertical-align: top;\n",
       "    }\n",
       "\n",
       "    .dataframe thead th {\n",
       "        text-align: right;\n",
       "    }\n",
       "</style>\n",
       "<table border=\"1\" class=\"dataframe\">\n",
       "  <thead>\n",
       "    <tr style=\"text-align: right;\">\n",
       "      <th></th>\n",
       "      <th>lesion_id</th>\n",
       "      <th>image_id</th>\n",
       "      <th>dx</th>\n",
       "      <th>dx_type</th>\n",
       "      <th>age</th>\n",
       "      <th>sex</th>\n",
       "      <th>localization</th>\n",
       "    </tr>\n",
       "  </thead>\n",
       "  <tbody>\n",
       "    <tr>\n",
       "      <th>0</th>\n",
       "      <td>HAM_0000118</td>\n",
       "      <td>ISIC_0027419</td>\n",
       "      <td>bkl</td>\n",
       "      <td>histo</td>\n",
       "      <td>80.0</td>\n",
       "      <td>male</td>\n",
       "      <td>scalp</td>\n",
       "    </tr>\n",
       "    <tr>\n",
       "      <th>1</th>\n",
       "      <td>HAM_0000118</td>\n",
       "      <td>ISIC_0025030</td>\n",
       "      <td>bkl</td>\n",
       "      <td>histo</td>\n",
       "      <td>80.0</td>\n",
       "      <td>male</td>\n",
       "      <td>scalp</td>\n",
       "    </tr>\n",
       "    <tr>\n",
       "      <th>2</th>\n",
       "      <td>HAM_0002730</td>\n",
       "      <td>ISIC_0026769</td>\n",
       "      <td>bkl</td>\n",
       "      <td>histo</td>\n",
       "      <td>80.0</td>\n",
       "      <td>male</td>\n",
       "      <td>scalp</td>\n",
       "    </tr>\n",
       "    <tr>\n",
       "      <th>3</th>\n",
       "      <td>HAM_0002730</td>\n",
       "      <td>ISIC_0025661</td>\n",
       "      <td>bkl</td>\n",
       "      <td>histo</td>\n",
       "      <td>80.0</td>\n",
       "      <td>male</td>\n",
       "      <td>scalp</td>\n",
       "    </tr>\n",
       "    <tr>\n",
       "      <th>4</th>\n",
       "      <td>HAM_0001466</td>\n",
       "      <td>ISIC_0031633</td>\n",
       "      <td>bkl</td>\n",
       "      <td>histo</td>\n",
       "      <td>75.0</td>\n",
       "      <td>male</td>\n",
       "      <td>ear</td>\n",
       "    </tr>\n",
       "  </tbody>\n",
       "</table>\n",
       "</div>"
      ],
      "text/plain": [
       "     lesion_id      image_id   dx dx_type   age   sex localization\n",
       "0  HAM_0000118  ISIC_0027419  bkl   histo  80.0  male        scalp\n",
       "1  HAM_0000118  ISIC_0025030  bkl   histo  80.0  male        scalp\n",
       "2  HAM_0002730  ISIC_0026769  bkl   histo  80.0  male        scalp\n",
       "3  HAM_0002730  ISIC_0025661  bkl   histo  80.0  male        scalp\n",
       "4  HAM_0001466  ISIC_0031633  bkl   histo  75.0  male          ear"
      ]
     },
     "execution_count": 4,
     "metadata": {},
     "output_type": "execute_result"
    }
   ],
   "source": [
    "diagnoses = pd.read_csv('/Users/jakeziegler/Desktop/x/resources/datasets/health/skin-diagnoses/HAM10000_metadata.csv')\n",
    "diagnoses.head()"
   ]
  },
  {
   "cell_type": "code",
   "execution_count": 7,
   "metadata": {},
   "outputs": [],
   "source": [
    "def copy_files_to_new_folder(src, dest):\n",
    "    \"\"\"\n",
    "    Copy files from src to dest. If file already exists, it will be overwritten.\n",
    "    \"\"\"\n",
    "    for item in os.listdir(src):\n",
    "        src_path = os.path.join(src, item)\n",
    "        dest_path = os.path.join(dest, item)\n",
    "\n",
    "        if os.path.isdir(src_path):\n",
    "            # It's a directory, copy its contents\n",
    "            new_dest_path = os.path.join(dest, os.path.basename(src_path))\n",
    "            if not os.path.exists(new_dest_path):\n",
    "                os.makedirs(new_dest_path)\n",
    "            copy_files_to_new_folder(src_path, new_dest_path)\n",
    "        else:\n",
    "            # It's a file, copy it\n",
    "            shutil.copy2(src_path, dest_path)\n",
    "\n",
    "# Paths to the two source directories\n",
    "source_directory1 = '/Users/jakeziegler/Desktop/x/resources/datasets/skin_diagnoses/HAM10000_images_part_1'\n",
    "source_directory2 = '/Users/jakeziegler/Desktop/x/resources/datasets/skin_diagnoses/HAM10000_images_part_2'\n",
    "\n",
    "# Path to the new destination directory\n",
    "new_destination_directory = '/Users/jakeziegler/Desktop/x/resources/datasets/skin_diagnoses/HAM10000_combined'\n",
    "\n",
    "# Create the new destination directory if it doesn't exist\n",
    "if not os.path.exists(new_destination_directory):\n",
    "    os.makedirs(new_destination_directory)\n",
    "\n",
    "# Copy files from both source directories to the new destination directory\n",
    "copy_files_to_new_folder(source_directory1, new_destination_directory)\n",
    "copy_files_to_new_folder(source_directory2, new_destination_directory)"
   ]
  },
  {
   "cell_type": "markdown",
   "metadata": {},
   "source": [
    "# Initial Dataset: Inidividual Classes for Each Diagnoses:\n",
    "---"
   ]
  },
  {
   "cell_type": "code",
   "execution_count": 6,
   "metadata": {},
   "outputs": [
    {
     "name": "stdout",
     "output_type": "stream",
     "text": [
      "Folder 'bkl' already exists.\n",
      "Folder 'nv' already exists.\n",
      "Folder 'df' already exists.\n",
      "Folder 'mel' already exists.\n",
      "Folder 'vasc' already exists.\n",
      "Folder 'bcc' already exists.\n",
      "Folder 'akiec' already exists.\n"
     ]
    }
   ],
   "source": [
    "def create_folders(base_dir, folder_names):\n",
    "    \"\"\"\n",
    "    Create folders in the specified directory based on the given list of folder names.\n",
    "    \"\"\"\n",
    "    for folder_name in folder_names:\n",
    "        folder_path = os.path.join(base_dir, folder_name)\n",
    "        if not os.path.exists(folder_path):\n",
    "            os.makedirs(folder_path)\n",
    "        else:\n",
    "            print(f\"Folder '{folder_name}' already exists.\")\n",
    "\n",
    "unique_diagnoses = list(diagnoses['dx'].unique())\n",
    "\n",
    "base_directory = '/Users/jakeziegler/Desktop/x/resources/datasets/skin_diagnoses/HAM10000_combined'\n",
    "\n",
    "create_folders(base_directory, unique_diagnoses)"
   ]
  },
  {
   "cell_type": "code",
   "execution_count": null,
   "metadata": {},
   "outputs": [],
   "source": [
    "print(unique_diagnoses)"
   ]
  },
  {
   "cell_type": "code",
   "execution_count": 20,
   "metadata": {},
   "outputs": [],
   "source": [
    "def list_files(directory):\n",
    "    \"\"\"\n",
    "    List all files in the given directory.\n",
    "    \"\"\"\n",
    "    return [file for file in os.listdir(directory) if os.path.isfile(os.path.join(directory, file))]\n",
    "\n",
    "base_directory = '/Users/jakeziegler/Desktop/x/resources/datasets/skin_diagnoses/HAM10000_combined'\n",
    "\n",
    "file_list = list_files(base_directory)\n",
    "\n",
    "for x in range(diagnoses.shape[0]):\n",
    "    if diagnoses.iloc[x,2] == unique_diagnoses[0]:\n",
    "        target_directory = base_directory + '/' + unique_diagnoses[0]\n",
    "        file_path = base_directory + '/' + diagnoses.iloc[x,1] + '.jpg'\n",
    "        shutil.move(file_path, target_directory)\n",
    "\n",
    "    if diagnoses.iloc[x,2] == unique_diagnoses[1]:\n",
    "        target_directory = base_directory + '/' + unique_diagnoses[1]\n",
    "        file_path = base_directory + '/' + diagnoses.iloc[x,1] + '.jpg'\n",
    "        shutil.move(file_path, target_directory)\n",
    "\n",
    "    if diagnoses.iloc[x,2] == unique_diagnoses[2]:\n",
    "        target_directory = base_directory + '/' + unique_diagnoses[2]\n",
    "        file_path = base_directory + '/' + diagnoses.iloc[x,1] + '.jpg'\n",
    "        shutil.move(file_path, target_directory)\n",
    "    \n",
    "    if diagnoses.iloc[x,2] == unique_diagnoses[3]:\n",
    "        target_directory = base_directory + '/' + unique_diagnoses[3]\n",
    "        file_path = base_directory + '/' + diagnoses.iloc[x,1] + '.jpg'\n",
    "        shutil.move(file_path, target_directory)\n",
    "\n",
    "    if diagnoses.iloc[x,2] == unique_diagnoses[4]:\n",
    "        target_directory = base_directory + '/' + unique_diagnoses[4]\n",
    "        file_path = base_directory + '/' + diagnoses.iloc[x,1] + '.jpg'\n",
    "        shutil.move(file_path, target_directory)\n",
    "\n",
    "    if diagnoses.iloc[x,2] == unique_diagnoses[5]:\n",
    "        target_directory = base_directory + '/' + unique_diagnoses[5]\n",
    "        file_path = base_directory + '/' + diagnoses.iloc[x,1] + '.jpg'\n",
    "        shutil.move(file_path, target_directory)\n",
    "\n",
    "    if diagnoses.iloc[x,2] == unique_diagnoses[6]:\n",
    "        target_directory = base_directory + '/' + unique_diagnoses[6]\n",
    "        file_path = base_directory + '/' + diagnoses.iloc[x,1] + '.jpg'\n",
    "        shutil.move(file_path, target_directory)"
   ]
  },
  {
   "cell_type": "markdown",
   "metadata": {},
   "source": [
    "# Binary Classification Dataset: Benign vs. Cancerous:\n",
    "---"
   ]
  },
  {
   "cell_type": "code",
   "execution_count": 1,
   "metadata": {},
   "outputs": [
    {
     "ename": "NameError",
     "evalue": "name 'os' is not defined",
     "output_type": "error",
     "traceback": [
      "\u001b[0;31m---------------------------------------------------------------------------\u001b[0m",
      "\u001b[0;31mNameError\u001b[0m                                 Traceback (most recent call last)",
      "Cell \u001b[0;32mIn[1], line 27\u001b[0m\n\u001b[1;32m     24\u001b[0m new_destination_directory \u001b[38;5;241m=\u001b[39m \u001b[38;5;124m'\u001b[39m\u001b[38;5;124m/Users/jakeziegler/Desktop/x/resources/datasets/skin-diagnoses/health/HAM10000Binary\u001b[39m\u001b[38;5;124m'\u001b[39m\n\u001b[1;32m     26\u001b[0m \u001b[38;5;66;03m# Create the new destination directory if it doesn't exist\u001b[39;00m\n\u001b[0;32m---> 27\u001b[0m \u001b[38;5;28;01mif\u001b[39;00m \u001b[38;5;129;01mnot\u001b[39;00m \u001b[43mos\u001b[49m\u001b[38;5;241m.\u001b[39mpath\u001b[38;5;241m.\u001b[39mexists(new_destination_directory):\n\u001b[1;32m     28\u001b[0m     os\u001b[38;5;241m.\u001b[39mmakedirs(new_destination_directory)\n\u001b[1;32m     30\u001b[0m \u001b[38;5;66;03m# Copy files from both source directories to the new destination directory\u001b[39;00m\n",
      "\u001b[0;31mNameError\u001b[0m: name 'os' is not defined"
     ]
    }
   ],
   "source": [
    "def copy_files_to_new_folder(src, dest):\n",
    "    \"\"\"\n",
    "    Copy files from src to dest. If file already exists, it will be overwritten.\n",
    "    \"\"\"\n",
    "    for item in os.listdir(src):\n",
    "        src_path = os.path.join(src, item)\n",
    "        dest_path = os.path.join(dest, item)\n",
    "\n",
    "        if os.path.isdir(src_path):\n",
    "            # It's a directory, copy its contents\n",
    "            new_dest_path = os.path.join(dest, os.path.basename(src_path))\n",
    "            if not os.path.exists(new_dest_path):\n",
    "                os.makedirs(new_dest_path)\n",
    "            copy_files_to_new_folder(src_path, new_dest_path)\n",
    "        else:\n",
    "            # It's a file, copy it\n",
    "            shutil.copy2(src_path, dest_path)\n",
    "\n",
    "# Paths to the two source directories\n",
    "source_directory1 = '/Users/jakeziegler/Desktop/x/resources/datasets/skin-diagnoses/health/HAM10000_images_part_1'\n",
    "source_directory2 = '/Users/jakeziegler/Desktop/x/resources/datasets/skin-diagnoses/health/HAM10000_images_part_2'\n",
    "\n",
    "# Path to the new destination directory\n",
    "new_destination_directory = '/Users/jakeziegler/Desktop/x/resources/datasets/skin-diagnoses/health/HAM10000Binary'\n",
    "\n",
    "# Create the new destination directory if it doesn't exist\n",
    "if not os.path.exists(new_destination_directory):\n",
    "    os.makedirs(new_destination_directory)\n",
    "\n",
    "# Copy files from both source directories to the new destination directory\n",
    "copy_files_to_new_folder(source_directory1, new_destination_directory)\n",
    "copy_files_to_new_folder(source_directory2, new_destination_directory)"
   ]
  },
  {
   "cell_type": "code",
   "execution_count": null,
   "metadata": {},
   "outputs": [
    {
     "name": "stdout",
     "output_type": "stream",
     "text": [
      "Folder 'cancerous' already exists.\n",
      "Folder 'benign' already exists.\n"
     ]
    }
   ],
   "source": [
    "def create_folders(base_dir, folder_names):\n",
    "    \"\"\"\n",
    "    Create folders in the specified directory based on the given list of folder names.\n",
    "    \"\"\"\n",
    "    for folder_name in folder_names:\n",
    "        folder_path = os.path.join(base_dir, folder_name)\n",
    "        if not os.path.exists(folder_path):\n",
    "            os.makedirs(folder_path)\n",
    "        else:\n",
    "            print(f\"Folder '{folder_name}' already exists.\")\n",
    "\n",
    "bins = list(['cancerous', 'benign'])\n",
    "unique_diagnoses = list(diagnoses['dx'].unique())\n",
    "\n",
    "base_directory = '/Users/jakeziegler/Desktop/x/resources/datasets/health/skin-diagnoses/HAMBinary'\n",
    "\n",
    "create_folders(base_directory, bins)"
   ]
  },
  {
   "cell_type": "code",
   "execution_count": null,
   "metadata": {},
   "outputs": [
    {
     "name": "stdout",
     "output_type": "stream",
     "text": [
      "Binning: ['cancerous', 'benign']\n",
      "Unique Diagnoses: ['bkl', 'nv', 'df', 'mel', 'vasc', 'bcc', 'akiec']\n"
     ]
    }
   ],
   "source": [
    "print(f\"Binning: {bins}\")\n",
    "print(f\"Unique Diagnoses: {unique_diagnoses}\")"
   ]
  },
  {
   "cell_type": "code",
   "execution_count": null,
   "metadata": {},
   "outputs": [],
   "source": [
    "def list_files(directory):\n",
    "    \"\"\"\n",
    "    List all files in the given directory.\n",
    "    \"\"\"\n",
    "    return [file for file in os.listdir(directory) if os.path.isfile(os.path.join(directory, file))]\n",
    "\n",
    "base_directory = '/Users/jakeziegler/Desktop/x/resources/datasets/health/skin-diagnoses/HAMBinary'\n",
    "\n",
    "file_list = list_files(base_directory)\n",
    "\n",
    "\n",
    "\n",
    "for x in range(diagnoses.shape[0]):\n",
    "    if diagnoses.iloc[x,2] == unique_diagnoses[0]:\n",
    "        target_directory = base_directory + '/' + bins[1]\n",
    "        file_path = base_directory + '/' + diagnoses.iloc[x,1] + '.jpg'\n",
    "        shutil.move(file_path, target_directory)\n",
    "\n",
    "    if diagnoses.iloc[x,2] == unique_diagnoses[1]:\n",
    "        target_directory = base_directory + '/' + bins[1]\n",
    "        file_path = base_directory + '/' + diagnoses.iloc[x,1] + '.jpg'\n",
    "        shutil.move(file_path, target_directory)\n",
    "\n",
    "    if diagnoses.iloc[x,2] == unique_diagnoses[2]:\n",
    "        target_directory = base_directory + '/' + bins[0]\n",
    "        file_path = base_directory + '/' + diagnoses.iloc[x,1] + '.jpg'\n",
    "        shutil.move(file_path, target_directory)\n",
    "    \n",
    "    if diagnoses.iloc[x,2] == unique_diagnoses[3]:\n",
    "        target_directory = base_directory + '/' + bins[0]\n",
    "        file_path = base_directory + '/' + diagnoses.iloc[x,1] + '.jpg'\n",
    "        shutil.move(file_path, target_directory)\n",
    "\n",
    "    if diagnoses.iloc[x,2] == unique_diagnoses[4]:\n",
    "        target_directory = base_directory + '/' + bins[1]\n",
    "        file_path = base_directory + '/' + diagnoses.iloc[x,1] + '.jpg'\n",
    "        shutil.move(file_path, target_directory)\n",
    "\n",
    "    if diagnoses.iloc[x,2] == unique_diagnoses[5]:\n",
    "        target_directory = base_directory + '/' + bins[0]\n",
    "        file_path = base_directory + '/' + diagnoses.iloc[x,1] + '.jpg'\n",
    "        shutil.move(file_path, target_directory)\n",
    "\n",
    "    if diagnoses.iloc[x,2] == unique_diagnoses[6]:\n",
    "        target_directory = base_directory + '/' + bins[0]\n",
    "        file_path = base_directory + '/' + diagnoses.iloc[x,1] + '.jpg'\n",
    "        shutil.move(file_path, target_directory)"
   ]
  },
  {
   "cell_type": "markdown",
   "metadata": {},
   "source": [
    "# Multiclass Classification: Differentiation Between Pathologies:\n",
    "---"
   ]
  }
 ],
 "metadata": {
  "kernelspec": {
   "display_name": "Python 3",
   "language": "python",
   "name": "python3"
  },
  "language_info": {
   "codemirror_mode": {
    "name": "ipython",
    "version": 3
   },
   "file_extension": ".py",
   "mimetype": "text/x-python",
   "name": "python",
   "nbconvert_exporter": "python",
   "pygments_lexer": "ipython3",
   "version": "3.12.2"
  }
 },
 "nbformat": 4,
 "nbformat_minor": 2
}
