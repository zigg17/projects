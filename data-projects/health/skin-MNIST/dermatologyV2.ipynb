{
  "cells": [
    {
      "cell_type": "markdown",
      "metadata": {
        "id": "MVk0xDPXhS6A"
      },
      "source": [
        "# Imports:\n",
        "---"
      ]
    },
    {
      "cell_type": "code",
      "execution_count": null,
      "metadata": {
        "id": "DwLQKrUy_SyB"
      },
      "outputs": [],
      "source": [
        "import sys\n",
        "import requests\n",
        "import os\n",
        "import csv\n",
        "import random\n",
        "import torch\n",
        "from torch import nn\n",
        "import torch.nn.functional as F\n",
        "import torchvision\n",
        "from torchvision import datasets, transforms\n",
        "from torchvision.transforms import ToTensor\n",
        "import torchvision.models as models\n",
        "from torch.utils.data import DataLoader, random_split, ConcatDataset, Subset\n",
        "from torchvision.datasets import ImageFolder\n",
        "from timeit import default_timer as timer\n",
        "from tqdm.auto import tqdm\n",
        "from IPython.display import clear_output\n",
        "import matplotlib.pyplot as plt\n",
        "import seaborn as sns\n",
        "import pandas as pd\n",
        "import numpy as np\n",
        "from collections import Counter\n",
        "from sklearn.metrics import confusion_matrix\n",
        "from pathlib import Path\n",
        "import zipfile\n",
        "import logging"
      ]
    },
    {
      "cell_type": "code",
      "execution_count": null,
      "metadata": {
        "id": "gAN6J8g5r7E6"
      },
      "outputs": [],
      "source": [
        "# Step 1: Download the Raw File and Save it Locally\n",
        "url = 'https://raw.githubusercontent.com/zigg17/data-analytics/main/helpers/helpers.py'\n",
        "response = requests.get(url)\n",
        "content = response.text\n",
        "\n",
        "# Save the content to a local helpers.py file\n",
        "with open('helpers.py', 'w') as file:\n",
        "    file.write(content)\n",
        "\n",
        "# Execute the file to import everything defined in it\n",
        "exec(content)"
      ]
    },
    {
      "cell_type": "code",
      "execution_count": null,
      "metadata": {
        "id": "IiEc5ab-NWuA"
      },
      "outputs": [],
      "source": [
        "from google.colab import drive\n",
        "drive.mount('/content/drive')\n",
        "\n",
        "zip_ref = zipfile.ZipFile(\"/content/drive/MyDrive/HAMBinary.zip\", 'r')\n",
        "zip_ref.extractall(\"/tmp\")\n",
        "zip_ref.close()"
      ]
    },
    {
      "cell_type": "markdown",
      "metadata": {
        "id": "exw_Xw6WhbQV"
      },
      "source": [
        "# Model Instance 1:\n",
        "---\n",
        "* Optimizer: SGD\n",
        "  * lr: .001\n",
        "  * weight decay: .001\n",
        "* Neural Net: ResNet-18\n",
        "  * Classes: 2\n",
        "  * Pretrained: Imagenet1k_v1\n",
        "* Purpose: Differentiation between cancerous and benign."
      ]
    },
    {
      "cell_type": "code",
      "execution_count": null,
      "metadata": {
        "id": "6vhiwvo-hQvj"
      },
      "outputs": [],
      "source": [
        "model_type = 'resnet18'\n",
        "optimizer_name = 'sgd'\n",
        "optimizer_args = {\n",
        "    \"lr\": 0.001,\n",
        "    \"weight_decay\": 0.01\n",
        "}\n",
        "epochs = 5\n",
        "model_iter = 'benignVcancerous'\n",
        "photo_folder = '/tmp/HAMBinary'\n",
        "save_folder = Path('/content/drive/My Drive/models')\n",
        "\n",
        "full_experiment(model_type, model_iter, optimizer_name,\n",
        "                optimizer_args, epochs, photo_folder,\n",
        "                save_folder)"
      ]
    }
  ],
  "metadata": {
    "accelerator": "GPU",
    "colab": {
      "gpuType": "A100",
      "machine_shape": "hm",
      "provenance": []
    },
    "kernelspec": {
      "display_name": "Python 3",
      "name": "python3"
    },
    "language_info": {
      "name": "python"
    }
  },
  "nbformat": 4,
  "nbformat_minor": 0
}
