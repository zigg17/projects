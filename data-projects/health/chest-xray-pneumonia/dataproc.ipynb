{
 "cells": [
  {
   "cell_type": "code",
   "execution_count": 59,
   "metadata": {},
   "outputs": [],
   "source": [
    "import pandas as pd\n",
    "import os\n",
    "import shutil\n",
    "normal_count = 0\n",
    "pneum_count = 0\n",
    "normal_file_list = list()\n",
    "pneum_file_list = list()"
   ]
  },
  {
   "cell_type": "code",
   "execution_count": 60,
   "metadata": {},
   "outputs": [
    {
     "name": "stdout",
     "output_type": "stream",
     "text": [
      "Normal count: 1583\n",
      "Pneumonia count: 4273\n",
      "Total count: 5856\n"
     ]
    }
   ],
   "source": [
    "def list_files(directory):\n",
    "    \"\"\"\n",
    "    List all files in the given directory.\n",
    "    \"\"\"\n",
    "    return [file for file in os.listdir(directory) if os.path.isfile(os.path.join(directory, file))]\n",
    "\n",
    "norm0 = '/Users/jakeziegler/Desktop/x/resources/datasets/chest_xray/test/NORMAL'\n",
    "norm_directory0 = list_files(norm0)\n",
    "norm_directory0 = [norm0 + '/' + x for x in norm_directory0]\n",
    "\n",
    "norm1 = '/Users/jakeziegler/Desktop/x/resources/datasets/chest_xray/train/NORMAL'\n",
    "norm_directory1 = list_files(norm1)\n",
    "norm_directory1 = [norm1 + '/' + x for x in norm_directory1]\n",
    "\n",
    "norm2 = '/Users/jakeziegler/Desktop/x/resources/datasets/chest_xray/val/NORMAL'\n",
    "norm_directory2 = list_files(norm2)\n",
    "norm_directory2 = [norm2 + '/' + x for x in norm_directory2]\n",
    "\n",
    "pneum0 = '/Users/jakeziegler/Desktop/x/resources/datasets/chest_xray/test/PNEUMONIA'\n",
    "pneum_directory0 = list_files(pneum0)\n",
    "pneum_directory0 = [pneum0 + '/' + x for x in pneum_directory0]\n",
    "\n",
    "pneum1 = '/Users/jakeziegler/Desktop/x/resources/datasets/chest_xray/train/PNEUMONIA'\n",
    "pneum_directory1 = list_files(pneum1)\n",
    "pneum_directory1 = [pneum1 + '/' + x for x in pneum_directory1]\n",
    "\n",
    "pneum2 = '/Users/jakeziegler/Desktop/x/resources/datasets/chest_xray/val/PNEUMONIA'\n",
    "pneum_directory2 = list_files(pneum2)\n",
    "pneum_directory2 = [pneum2 + '/' + x for x in pneum_directory2]\n",
    "\n",
    "\n",
    "normal_file_list = norm_directory0 +  norm_directory1 + norm_directory2\n",
    "pneum_file_list = pneum_directory0 + pneum_directory1 + pneum_directory2\n",
    "normal_count += len(normal_file_list)\n",
    "pneum_count += len(pneum_file_list)\n",
    "print(f'Normal count: {normal_count}')\n",
    "print(f'Pneumonia count: {pneum_count}')\n",
    "print(f'Total count: {normal_count + pneum_count}')\n"
   ]
  },
  {
   "cell_type": "code",
   "execution_count": 61,
   "metadata": {},
   "outputs": [
    {
     "data": {
      "text/plain": [
       "'/Users/jakeziegler/Desktop/x/resources/datasets/chest_xray/test/PNEUMONIA/person147_bacteria_706.jpeg'"
      ]
     },
     "execution_count": 61,
     "metadata": {},
     "output_type": "execute_result"
    }
   ],
   "source": [
    "pneum_directory0[0]"
   ]
  },
  {
   "cell_type": "code",
   "execution_count": 62,
   "metadata": {},
   "outputs": [
    {
     "name": "stdout",
     "output_type": "stream",
     "text": [
      "Folder 'normal' already exists.\n",
      "Folder 'pneumonia' already exists.\n"
     ]
    }
   ],
   "source": [
    "def create_folders(base_dir, folder_names):\n",
    "    \"\"\"\n",
    "    Create folders in the specified directory based on the given list of folder names.\n",
    "    \"\"\"\n",
    "    for folder_name in folder_names:\n",
    "        folder_path = os.path.join(base_dir, folder_name)\n",
    "        if not os.path.exists(folder_path):\n",
    "            os.makedirs(folder_path)\n",
    "        else:\n",
    "            print(f\"Folder '{folder_name}' already exists.\")\n",
    "\n",
    "base_directory = '/Users/jakeziegler/Desktop/x/resources/datasets/chest_xray/pneumonia_combined'\n",
    "unique_diagnoses = ['normal', 'pneumonia']\n",
    "\n",
    "create_folders(base_directory, unique_diagnoses)"
   ]
  },
  {
   "cell_type": "code",
   "execution_count": 63,
   "metadata": {},
   "outputs": [],
   "source": [
    "target_directory = '/Users/jakeziegler/Desktop/x/resources/datasets/chest_xray/pneumonia_combined/normal'\n",
    "for filepath in normal_file_list:\n",
    "    shutil.move(filepath, target_directory)\n",
    "\n",
    "target_directory = '/Users/jakeziegler/Desktop/x/resources/datasets/chest_xray/pneumonia_combined/pneumonia'\n",
    "for filepath in pneum_file_list:\n",
    "    shutil.move(filepath, target_directory)"
   ]
  }
 ],
 "metadata": {
  "kernelspec": {
   "display_name": "Python 3",
   "language": "python",
   "name": "python3"
  },
  "language_info": {
   "codemirror_mode": {
    "name": "ipython",
    "version": 3
   },
   "file_extension": ".py",
   "mimetype": "text/x-python",
   "name": "python",
   "nbconvert_exporter": "python",
   "pygments_lexer": "ipython3",
   "version": "3.12.2"
  }
 },
 "nbformat": 4,
 "nbformat_minor": 2
}
