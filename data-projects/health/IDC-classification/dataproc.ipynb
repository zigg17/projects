{
 "cells": [
  {
   "cell_type": "code",
   "execution_count": 1,
   "metadata": {},
   "outputs": [],
   "source": [
    "import pandas as pd\n",
    "import numpy as np\n",
    "import os\n",
    "import shutil"
   ]
  },
  {
   "cell_type": "code",
   "execution_count": 2,
   "metadata": {},
   "outputs": [],
   "source": [
    "def list_directories(path):\n",
    "    # List all entries in the directory given by \"path\"\n",
    "    entries = os.listdir(path)\n",
    "    # Filter entries to include only directories\n",
    "    directories = [entry for entry in entries if os.path.isdir(os.path.join(path, entry))]\n",
    "    return directories\n",
    "\n",
    "# Specify the directory path here\n",
    "directory_path = '/Users/jakeziegler/Desktop/x/resources/datasets/health/IDC-classification'\n",
    "directories = list_directories(directory_path)\n",
    "directories = [directory_path + '/'+ directory for directory in directories]"
   ]
  },
  {
   "cell_type": "code",
   "execution_count": 3,
   "metadata": {},
   "outputs": [
    {
     "data": {
      "text/html": [
       "<div>\n",
       "<style scoped>\n",
       "    .dataframe tbody tr th:only-of-type {\n",
       "        vertical-align: middle;\n",
       "    }\n",
       "\n",
       "    .dataframe tbody tr th {\n",
       "        vertical-align: top;\n",
       "    }\n",
       "\n",
       "    .dataframe thead th {\n",
       "        text-align: right;\n",
       "    }\n",
       "</style>\n",
       "<table border=\"1\" class=\"dataframe\">\n",
       "  <thead>\n",
       "    <tr style=\"text-align: right;\">\n",
       "      <th></th>\n",
       "      <th>Umbrella Directories</th>\n",
       "    </tr>\n",
       "  </thead>\n",
       "  <tbody>\n",
       "    <tr>\n",
       "      <th>0</th>\n",
       "      <td>/Users/jakeziegler/Desktop/x/resources/dataset...</td>\n",
       "    </tr>\n",
       "    <tr>\n",
       "      <th>1</th>\n",
       "      <td>/Users/jakeziegler/Desktop/x/resources/dataset...</td>\n",
       "    </tr>\n",
       "    <tr>\n",
       "      <th>2</th>\n",
       "      <td>/Users/jakeziegler/Desktop/x/resources/dataset...</td>\n",
       "    </tr>\n",
       "    <tr>\n",
       "      <th>3</th>\n",
       "      <td>/Users/jakeziegler/Desktop/x/resources/dataset...</td>\n",
       "    </tr>\n",
       "    <tr>\n",
       "      <th>4</th>\n",
       "      <td>/Users/jakeziegler/Desktop/x/resources/dataset...</td>\n",
       "    </tr>\n",
       "  </tbody>\n",
       "</table>\n",
       "</div>"
      ],
      "text/plain": [
       "                                Umbrella Directories\n",
       "0  /Users/jakeziegler/Desktop/x/resources/dataset...\n",
       "1  /Users/jakeziegler/Desktop/x/resources/dataset...\n",
       "2  /Users/jakeziegler/Desktop/x/resources/dataset...\n",
       "3  /Users/jakeziegler/Desktop/x/resources/dataset...\n",
       "4  /Users/jakeziegler/Desktop/x/resources/dataset..."
      ]
     },
     "execution_count": 3,
     "metadata": {},
     "output_type": "execute_result"
    }
   ],
   "source": [
    "df = pd.DataFrame({\n",
    "    'Umbrella Directories': directories\n",
    "})\n",
    "df.head()"
   ]
  },
  {
   "cell_type": "code",
   "execution_count": 4,
   "metadata": {},
   "outputs": [
    {
     "data": {
      "text/html": [
       "<div>\n",
       "<style scoped>\n",
       "    .dataframe tbody tr th:only-of-type {\n",
       "        vertical-align: middle;\n",
       "    }\n",
       "\n",
       "    .dataframe tbody tr th {\n",
       "        vertical-align: top;\n",
       "    }\n",
       "\n",
       "    .dataframe thead th {\n",
       "        text-align: right;\n",
       "    }\n",
       "</style>\n",
       "<table border=\"1\" class=\"dataframe\">\n",
       "  <thead>\n",
       "    <tr style=\"text-align: right;\">\n",
       "      <th></th>\n",
       "      <th>Umbrella Directories</th>\n",
       "      <th>Zero Directories</th>\n",
       "      <th>One Directories</th>\n",
       "    </tr>\n",
       "  </thead>\n",
       "  <tbody>\n",
       "    <tr>\n",
       "      <th>0</th>\n",
       "      <td>/Users/jakeziegler/Desktop/x/resources/dataset...</td>\n",
       "      <td>/Users/jakeziegler/Desktop/x/resources/dataset...</td>\n",
       "      <td>/Users/jakeziegler/Desktop/x/resources/dataset...</td>\n",
       "    </tr>\n",
       "    <tr>\n",
       "      <th>1</th>\n",
       "      <td>/Users/jakeziegler/Desktop/x/resources/dataset...</td>\n",
       "      <td>/Users/jakeziegler/Desktop/x/resources/dataset...</td>\n",
       "      <td>/Users/jakeziegler/Desktop/x/resources/dataset...</td>\n",
       "    </tr>\n",
       "    <tr>\n",
       "      <th>2</th>\n",
       "      <td>/Users/jakeziegler/Desktop/x/resources/dataset...</td>\n",
       "      <td>/Users/jakeziegler/Desktop/x/resources/dataset...</td>\n",
       "      <td>/Users/jakeziegler/Desktop/x/resources/dataset...</td>\n",
       "    </tr>\n",
       "    <tr>\n",
       "      <th>3</th>\n",
       "      <td>/Users/jakeziegler/Desktop/x/resources/dataset...</td>\n",
       "      <td>/Users/jakeziegler/Desktop/x/resources/dataset...</td>\n",
       "      <td>/Users/jakeziegler/Desktop/x/resources/dataset...</td>\n",
       "    </tr>\n",
       "    <tr>\n",
       "      <th>4</th>\n",
       "      <td>/Users/jakeziegler/Desktop/x/resources/dataset...</td>\n",
       "      <td>/Users/jakeziegler/Desktop/x/resources/dataset...</td>\n",
       "      <td>/Users/jakeziegler/Desktop/x/resources/dataset...</td>\n",
       "    </tr>\n",
       "  </tbody>\n",
       "</table>\n",
       "</div>"
      ],
      "text/plain": [
       "                                Umbrella Directories  \\\n",
       "0  /Users/jakeziegler/Desktop/x/resources/dataset...   \n",
       "1  /Users/jakeziegler/Desktop/x/resources/dataset...   \n",
       "2  /Users/jakeziegler/Desktop/x/resources/dataset...   \n",
       "3  /Users/jakeziegler/Desktop/x/resources/dataset...   \n",
       "4  /Users/jakeziegler/Desktop/x/resources/dataset...   \n",
       "\n",
       "                                    Zero Directories  \\\n",
       "0  /Users/jakeziegler/Desktop/x/resources/dataset...   \n",
       "1  /Users/jakeziegler/Desktop/x/resources/dataset...   \n",
       "2  /Users/jakeziegler/Desktop/x/resources/dataset...   \n",
       "3  /Users/jakeziegler/Desktop/x/resources/dataset...   \n",
       "4  /Users/jakeziegler/Desktop/x/resources/dataset...   \n",
       "\n",
       "                                     One Directories  \n",
       "0  /Users/jakeziegler/Desktop/x/resources/dataset...  \n",
       "1  /Users/jakeziegler/Desktop/x/resources/dataset...  \n",
       "2  /Users/jakeziegler/Desktop/x/resources/dataset...  \n",
       "3  /Users/jakeziegler/Desktop/x/resources/dataset...  \n",
       "4  /Users/jakeziegler/Desktop/x/resources/dataset...  "
      ]
     },
     "execution_count": 4,
     "metadata": {},
     "output_type": "execute_result"
    }
   ],
   "source": [
    "zeros  = [umbrella + '/' + '0'for umbrella in df['Umbrella Directories']]\n",
    "df['Zero Directories'] = zeros\n",
    "ones  = [umbrella + '/' + '1'for umbrella in df['Umbrella Directories']]\n",
    "df['One Directories'] = ones\n",
    "df.head()"
   ]
  },
  {
   "cell_type": "code",
   "execution_count": 5,
   "metadata": {},
   "outputs": [],
   "source": [
    "def create_folders(base_dir, folder_names):\n",
    "    \"\"\"\n",
    "    Create folders in the specified directory based on the given list of folder names.\n",
    "    \"\"\"\n",
    "    for folder_name in folder_names:\n",
    "        folder_path = os.path.join(base_dir, folder_name)\n",
    "        if not os.path.exists(folder_path):\n",
    "            os.makedirs(folder_path)\n",
    "        else:\n",
    "            print(f\"Folder '{folder_name}' already exists.\")\n",
    "\n",
    "\n",
    "unique_diagnoses = ['non-IDC', 'IDC']\n",
    "\n",
    "base_directory = '/Users/jakeziegler/Desktop/x/resources/datasets/health/IDC-classification'\n",
    "\n",
    "create_folders(base_directory, unique_diagnoses)"
   ]
  },
  {
   "cell_type": "code",
   "execution_count": 6,
   "metadata": {},
   "outputs": [
    {
     "name": "stdout",
     "output_type": "stream",
     "text": [
      "Moved files to 0 directory\n",
      "Moved files to 1 directory\n"
     ]
    }
   ],
   "source": [
    "def list_files(directory):\n",
    "    \"\"\"\n",
    "    List all files in the given directory.\n",
    "    \"\"\"\n",
    "    return [directory + '/'+ file for file in os.listdir(directory) if os.path.isfile(os.path.join(directory, file))]\n",
    "\n",
    "zeros_directory = '/Users/jakeziegler/Desktop/x/resources/datasets/health/IDC-classification/non-IDC'\n",
    "ones_directory = '/Users/jakeziegler/Desktop/x/resources/datasets/health/IDC-classification/IDC'\n",
    "\n",
    "[[shutil.move(file,zeros_directory) for file in list_files(filelist)] for filelist in df['Zero Directories']]\n",
    "print('Moved files to 0 directory')\n",
    "[[shutil.move(file,ones_directory) for file in list_files(filelist)] for filelist in df['One Directories']]\n",
    "print('Moved files to 1 directory')"
   ]
  },
  {
   "cell_type": "code",
   "execution_count": 8,
   "metadata": {},
   "outputs": [
    {
     "name": "stdout",
     "output_type": "stream",
     "text": [
      "Kept /Users/jakeziegler/Desktop/x/resources/datasets/health/IDC-classification/IDC\n",
      "Kept /Users/jakeziegler/Desktop/x/resources/datasets/health/IDC-classification/.DS_Store\n",
      "Kept /Users/jakeziegler/Desktop/x/resources/datasets/health/IDC-classification/non-IDC\n"
     ]
    }
   ],
   "source": [
    "# Iterate over each item in the directory\n",
    "for dirname in os.listdir(base_directory):\n",
    "    dirpath = os.path.join(base_directory, dirname)\n",
    "    # Check if the item is a directory and not in the list of directories to keep\n",
    "    if os.path.isdir(dirpath) and dirname not in unique_diagnoses:\n",
    "        # Remove the directory and all its contents\n",
    "        shutil.rmtree(dirpath)\n",
    "    else:\n",
    "        print(f\"Kept {dirpath}\")"
   ]
  }
 ],
 "metadata": {
  "kernelspec": {
   "display_name": "Python 3",
   "language": "python",
   "name": "python3"
  },
  "language_info": {
   "codemirror_mode": {
    "name": "ipython",
    "version": 3
   },
   "file_extension": ".py",
   "mimetype": "text/x-python",
   "name": "python",
   "nbconvert_exporter": "python",
   "pygments_lexer": "ipython3",
   "version": "3.12.2"
  }
 },
 "nbformat": 4,
 "nbformat_minor": 2
}
